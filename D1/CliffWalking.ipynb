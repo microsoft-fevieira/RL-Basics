{
 "cells": [
  {
   "cell_type": "code",
   "execution_count": 1,
   "metadata": {},
   "outputs": [],
   "source": [
    "import gym\n",
    "from matplotlib import pyplot as plt\n",
    "import numpy as np\n",
    "import warnings\n",
    "warnings.filterwarnings(\"ignore\")"
   ]
  },
  {
   "cell_type": "code",
   "execution_count": 2,
   "metadata": {},
   "outputs": [],
   "source": [
    "env = gym.make('CliffWalking-v0')\n",
    "obs = env.reset()"
   ]
  },
  {
   "cell_type": "code",
   "execution_count": 3,
   "metadata": {},
   "outputs": [],
   "source": [
    "def LearnCliffWalking(algorithm = 'SARSA'): # Algorithm = <any thing else> does Q Learning\n",
    "    \n",
    "\n",
    "    alpha = 0.2\n",
    "    epsilon = 0.3\n",
    "    discount = 0.9\n",
    "    total_episodes = 600\n",
    "    total_repetition = 100\n",
    "\n",
    "    all_rewards = []\n",
    "    all_policies = []\n",
    "\n",
    "    # To find the average performance\n",
    "    for repeats in range(total_repetition):\n",
    "\n",
    "        Q_sa = {}\n",
    "\n",
    "        for s in range(48):\n",
    "            for a in range(4):\n",
    "                Q_sa[(s, a)] = 10\n",
    "                \n",
    "        pi_s = {}\n",
    "        episode_reward = []\n",
    "\n",
    "\n",
    "        for episode in range(total_episodes):\n",
    "                \n",
    "            state = env.reset()\n",
    "            done = False\n",
    "\n",
    "            total_reward = 0\n",
    "\n",
    "            if state not in pi_s:\n",
    "                action = np.random.randint(0, 4)\n",
    "                pi_s[state] = action\n",
    "\n",
    "            else:\n",
    "                if np.random.rand() < epsilon:\n",
    "                    action = np.random.randint(0, 4)\n",
    "                else:\n",
    "                    action = pi_s[state]\n",
    "                    \n",
    "            while not done:\n",
    "\n",
    "                new_state, reward, done, info = env.step(action)\n",
    "\n",
    "                total_reward += reward\n",
    "\n",
    "                if algorithm == 'SARSA':\n",
    "\n",
    "                    if new_state not in pi_s:\n",
    "                        new_action = np.random.randint(0, 4)\n",
    "                        pi_s[new_state] = new_action\n",
    "\n",
    "                    else:\n",
    "                        if np.random.rand() < epsilon:\n",
    "                            new_action = np.random.randint(0, 4)\n",
    "                        else:\n",
    "                            new_action = pi_s[new_state]\n",
    "\n",
    "                else: # Q Learning\n",
    "\n",
    "                    if new_state not in pi_s:\n",
    "                        new_action = np.random.randint(0, 4)\n",
    "                        pi_s[new_state] = new_action\n",
    "                    else:\n",
    "                        new_action = pi_s[new_state]\n",
    "                    \n",
    "                Q_sa[(state, action)] = Q_sa[(state, action)] + alpha * (reward + discount * Q_sa[(new_state, new_action)] - Q_sa[(state, action)])\n",
    "\n",
    "                pi_s[state] = np.argmax([Q_sa[state, 0], Q_sa[state, 1], Q_sa[state, 2], Q_sa[state, 3]])\n",
    "\n",
    "                if algorithm != 'SARSA':\n",
    "                    if new_state not in pi_s:\n",
    "                        new_action = np.random.randint(0, 4)\n",
    "                        pi_s[new_state] = new_action\n",
    "\n",
    "                    else:\n",
    "                        if np.random.rand() < epsilon:\n",
    "                            new_action = np.random.randint(0, 4)\n",
    "                        else:\n",
    "                            new_action = pi_s[new_state]\n",
    "\n",
    "\n",
    "                state = new_state\n",
    "                action = new_action\n",
    "            \n",
    "            epsilon -= 1e-300\n",
    "            episode_reward.append(total_reward)\n",
    "        \n",
    "        all_rewards.append(episode_reward)\n",
    "        all_policies.append(pi_s)\n",
    "    \n",
    "    return all_rewards, all_policies"
   ]
  },
  {
   "cell_type": "code",
   "execution_count": 4,
   "metadata": {},
   "outputs": [],
   "source": [
    "sarsa_rewards, sarsa_policies = LearnCliffWalking(algorithm = 'SARSA')\n",
    "qlearning_rewards, qlearning_policies = LearnCliffWalking(algorithm = 'Q Learning')"
   ]
  },
  {
   "cell_type": "code",
   "execution_count": 5,
   "metadata": {},
   "outputs": [
    {
     "data": {
      "text/plain": [
       "(600,)"
      ]
     },
     "execution_count": 5,
     "metadata": {},
     "output_type": "execute_result"
    }
   ],
   "source": [
    "np.mean(qlearning_rewards, 0).shape"
   ]
  },
  {
   "cell_type": "code",
   "execution_count": 6,
   "metadata": {},
   "outputs": [
    {
     "data": {
      "image/png": "[encoded data removed]",
      "text/plain": [
       "<Figure size 432x288 with 1 Axes>"
      ]
     },
     "metadata": {
      "needs_background": "light"
     },
     "output_type": "display_data"
    }
   ],
   "source": [
    "plt.plot(np.mean(sarsa_rewards, 0), 'r-')\n",
    "plt.plot(np.mean(qlearning_rewards, 0), 'b-')\n",
    "plt.ylim(-400, 0)\n",
    "\n",
    "plt.legend(['SARSA', 'Q Learning'])\n",
    "plt.xlabel('Episodes')\n",
    "plt.ylabel('Reward')\n",
    "plt.show()"
   ]
  },
  {
   "cell_type": "code",
   "execution_count": 7,
   "metadata": {},
   "outputs": [
    {
     "name": "stdout",
     "output_type": "stream",
     "text": [
      "Policy learnt via SARSA\n",
      "→ → → → → → → → → → → ↓ \n",
      "↑ ↑ ↑ ↑ ↑ ↑ ↑ ↑ ↑ → → ↓ \n",
      "↑ ↑ ↑ ↑ ↑ ↑ ↑ ↑ ↑ ↑ → ↓ \n",
      "↑ X X X X X X X X X X ↑ \n"
     ]
    }
   ],
   "source": [
    "final_policy = []\n",
    "for state in range(48):\n",
    "    state_action = []\n",
    "    for policy in sarsa_policies:\n",
    "        if state in policy:\n",
    "            state_action.append(policy[state])\n",
    "        else:\n",
    "            state_action.append(9)\n",
    "    final_policy.append(np.bincount(state_action).argmax())\n",
    "\n",
    "\n",
    "print('Policy learnt via SARSA')\n",
    "arrows = ['↑', '→', '↓', '←']\n",
    "# arrows = ['U', 'R', 'D', 'L']\n",
    "\n",
    "s = 0\n",
    "\n",
    "for r in range(4):\n",
    "    for c in range(12):\n",
    "        if final_policy[s] != 9:\n",
    "            print(arrows[final_policy[s]], end = \" \")\n",
    "        else:\n",
    "            print('X', end = \" \")\n",
    "        s += 1\n",
    "    \n",
    "    print()\n",
    "    \n"
   ]
  },
  {
   "cell_type": "code",
   "execution_count": 8,
   "metadata": {},
   "outputs": [
    {
     "name": "stdout",
     "output_type": "stream",
     "text": [
      "Policy learnt via Q Learning\n",
      "→ → → → → → → → → → → ↓ \n",
      "→ → → → → → → → → ↓ → ↓ \n",
      "→ → → → → → → → → → → ↓ \n",
      "↑ X X X X X X X X X X ↓ \n"
     ]
    }
   ],
   "source": [
    "final_policy = []\n",
    "for state in range(48):\n",
    "    state_action = []\n",
    "    for policy in qlearning_policies:\n",
    "        if state in policy:\n",
    "            state_action.append(policy[state])\n",
    "        else:\n",
    "            state_action.append(9)\n",
    "    final_policy.append(np.bincount(state_action).argmax())\n",
    "\n",
    "print('Policy learnt via Q Learning')\n",
    "arrows = ['↑', '→', '↓', '←']\n",
    "# arrows = ['U', 'R', 'D', 'L']\n",
    "\n",
    "s = 0\n",
    "\n",
    "for r in range(4):\n",
    "    for c in range(12):\n",
    "        if final_policy[s] != 9:\n",
    "            print(arrows[final_policy[s]], end = \" \")\n",
    "        else:\n",
    "            print('X', end = \" \")\n",
    "        s += 1\n",
    "    \n",
    "    print()\n",
    "    \n"
   ]
  },
  {
   "cell_type": "code",
   "execution_count": null,
   "metadata": {},
   "outputs": [],
   "source": []
  }
 ],
 "metadata": {
  "kernelspec": {
   "display_name": "Python 3.8.10 64-bit (windows store)",
   "language": "python",
   "name": "python3"
  },
  "language_info": {
   "codemirror_mode": {
    "name": "ipython",
    "version": 3
   },
   "file_extension": ".py",
   "mimetype": "text/x-python",
   "name": "python",
   "nbconvert_exporter": "python",
   "pygments_lexer": "ipython3",
   "version": "3.8.10"
  },
  "orig_nbformat": 4,
  "vscode": {
   "interpreter": {
    "hash": "5c18054ba61df995ddaeae3038d30d0728db58f9c2b6577d529d470870c77e34"
   }
  }
 },
 "nbformat": 4,
 "nbformat_minor": 2
}
