{
 "cells": [
  {
   "cell_type": "code",
   "execution_count": 1,
   "metadata": {},
   "outputs": [],
   "source": [
    "import gym\n",
    "from matplotlib import pyplot as plt\n",
    "import numpy as np\n",
    "import seaborn as sns\n",
    "import warnings\n",
    "warnings.filterwarnings(\"ignore\")"
   ]
  },
  {
   "cell_type": "code",
   "execution_count": 2,
   "metadata": {},
   "outputs": [],
   "source": [
    "# desc = [\"SFFF\", \"FFFH\", \"FFFF\", \"FFFG\"]\n",
    "\n",
    "desc = None\n",
    "\n",
    "env = gym.make('FrozenLake-v1', desc = desc, map_name=\"8x8\", is_slippery=False)\n",
    "size = 8\n",
    "obs = env.reset()"
   ]
  },
  {
   "cell_type": "code",
   "execution_count": 3,
   "metadata": {},
   "outputs": [],
   "source": [
    "\n",
    "state_matrix = np.array([i for i in range(size**2)]).reshape((size, size))\n",
    "state_matrix = np.pad(state_matrix, pad_width = 1, mode = 'edge')\n",
    "\n",
    "def neighbours(pres_state):\n",
    "\n",
    "    row = (pres_state // size) + 1\n",
    "    col = (pres_state % size) + 1\n",
    "\n",
    "    up = state_matrix[row - 1][col]\n",
    "    down = state_matrix[row + 1][col]\n",
    "\n",
    "    left = state_matrix[row][col - 1]\n",
    "    right = state_matrix[row][col + 1]\n",
    "\n",
    "    return [left, down, right, up]"
   ]
  },
  {
   "cell_type": "code",
   "execution_count": 4,
   "metadata": {},
   "outputs": [
    {
     "name": "stdout",
     "output_type": "stream",
     "text": [
      "0  -  0.0 ended at  41  after taking  39  steps.\n",
      "100  -  1.0 ended at  63  after taking  14  steps.\n",
      "200  -  0.0 ended at  54  after taking  17  steps.\n",
      "300  -  0.0 ended at  54  after taking  18  steps.\n",
      "400  -  1.0 ended at  63  after taking  16  steps.\n",
      "500  -  1.0 ended at  63  after taking  19  steps.\n",
      "600  -  0.0 ended at  29  after taking  8  steps.\n",
      "700  -  1.0 ended at  63  after taking  31  steps.\n",
      "800  -  1.0 ended at  63  after taking  18  steps.\n",
      "900  -  0.0 ended at  29  after taking  13  steps.\n",
      "1000  -  1.0 ended at  63  after taking  15  steps.\n",
      "1100  -  1.0 ended at  63  after taking  20  steps.\n",
      "1200  -  1.0 ended at  63  after taking  18  steps.\n",
      "1300  -  1.0 ended at  63  after taking  25  steps.\n",
      "1400  -  1.0 ended at  63  after taking  16  steps.\n",
      "1500  -  1.0 ended at  63  after taking  19  steps.\n",
      "1600  -  1.0 ended at  63  after taking  20  steps.\n",
      "1700  -  0.0 ended at  54  after taking  14  steps.\n",
      "1800  -  1.0 ended at  63  after taking  18  steps.\n",
      "1900  -  1.0 ended at  63  after taking  15  steps.\n",
      "2000  -  1.0 ended at  63  after taking  16  steps.\n",
      "2100  -  0.0 ended at  29  after taking  11  steps.\n",
      "2200  -  1.0 ended at  63  after taking  18  steps.\n",
      "2300  -  0.0 ended at  46  after taking  18  steps.\n",
      "2400  -  1.0 ended at  63  after taking  20  steps.\n",
      "2500  -  1.0 ended at  63  after taking  18  steps.\n",
      "2600  -  1.0 ended at  63  after taking  23  steps.\n",
      "2700  -  1.0 ended at  63  after taking  27  steps.\n",
      "2800  -  1.0 ended at  63  after taking  16  steps.\n",
      "2900  -  1.0 ended at  63  after taking  23  steps.\n",
      "3000  -  1.0 ended at  63  after taking  19  steps.\n",
      "3100  -  1.0 ended at  63  after taking  17  steps.\n",
      "3200  -  1.0 ended at  63  after taking  19  steps.\n",
      "3300  -  0.0 ended at  46  after taking  14  steps.\n",
      "3400  -  1.0 ended at  63  after taking  14  steps.\n",
      "3500  -  1.0 ended at  63  after taking  14  steps.\n",
      "3600  -  1.0 ended at  63  after taking  18  steps.\n",
      "3700  -  1.0 ended at  63  after taking  14  steps.\n",
      "3800  -  1.0 ended at  63  after taking  14  steps.\n",
      "3900  -  1.0 ended at  63  after taking  14  steps.\n",
      "4000  -  1.0 ended at  63  after taking  19  steps.\n",
      "4100  -  1.0 ended at  63  after taking  16  steps.\n",
      "4200  -  1.0 ended at  63  after taking  16  steps.\n",
      "4300  -  0.0 ended at  46  after taking  13  steps.\n",
      "4400  -  0.0 ended at  19  after taking  9  steps.\n",
      "4500  -  1.0 ended at  63  after taking  14  steps.\n",
      "4600  -  1.0 ended at  63  after taking  23  steps.\n",
      "4700  -  0.0 ended at  54  after taking  14  steps.\n",
      "4800  -  1.0 ended at  63  after taking  16  steps.\n",
      "4900  -  1.0 ended at  63  after taking  23  steps.\n",
      "5000  -  1.0 ended at  63  after taking  16  steps.\n",
      "5100  -  1.0 ended at  63  after taking  18  steps.\n",
      "5200  -  0.0 ended at  54  after taking  16  steps.\n",
      "5300  -  1.0 ended at  63  after taking  16  steps.\n",
      "5400  -  1.0 ended at  63  after taking  18  steps.\n",
      "5500  -  1.0 ended at  63  after taking  17  steps.\n",
      "5600  -  1.0 ended at  63  after taking  20  steps.\n",
      "5700  -  1.0 ended at  63  after taking  17  steps.\n",
      "5800  -  1.0 ended at  63  after taking  17  steps.\n",
      "5900  -  1.0 ended at  63  after taking  14  steps.\n",
      "6000  -  1.0 ended at  63  after taking  20  steps.\n",
      "6100  -  1.0 ended at  63  after taking  16  steps.\n",
      "6200  -  1.0 ended at  63  after taking  14  steps.\n",
      "6300  -  1.0 ended at  63  after taking  21  steps.\n",
      "6400  -  1.0 ended at  63  after taking  23  steps.\n",
      "6500  -  1.0 ended at  63  after taking  16  steps.\n",
      "6600  -  0.0 ended at  29  after taking  8  steps.\n",
      "6700  -  1.0 ended at  63  after taking  18  steps.\n",
      "6800  -  1.0 ended at  63  after taking  19  steps.\n",
      "6900  -  1.0 ended at  63  after taking  20  steps.\n",
      "7000  -  1.0 ended at  63  after taking  16  steps.\n",
      "7100  -  1.0 ended at  63  after taking  23  steps.\n",
      "7200  -  1.0 ended at  63  after taking  23  steps.\n",
      "7300  -  1.0 ended at  63  after taking  22  steps.\n",
      "7400  -  1.0 ended at  63  after taking  14  steps.\n",
      "7500  -  1.0 ended at  63  after taking  16  steps.\n",
      "7600  -  1.0 ended at  63  after taking  17  steps.\n",
      "7700  -  1.0 ended at  63  after taking  15  steps.\n",
      "7800  -  1.0 ended at  63  after taking  16  steps.\n",
      "7900  -  1.0 ended at  63  after taking  15  steps.\n",
      "8000  -  1.0 ended at  63  after taking  14  steps.\n",
      "8100  -  0.0 ended at  19  after taking  11  steps.\n",
      "8200  -  1.0 ended at  63  after taking  18  steps.\n",
      "8300  -  1.0 ended at  63  after taking  25  steps.\n",
      "8400  -  1.0 ended at  63  after taking  16  steps.\n",
      "8500  -  1.0 ended at  63  after taking  21  steps.\n",
      "8600  -  1.0 ended at  63  after taking  17  steps.\n",
      "8700  -  0.0 ended at  19  after taking  9  steps.\n",
      "8800  -  1.0 ended at  63  after taking  17  steps.\n",
      "8900  -  1.0 ended at  63  after taking  14  steps.\n",
      "9000  -  1.0 ended at  63  after taking  16  steps.\n",
      "9100  -  1.0 ended at  63  after taking  16  steps.\n",
      "9200  -  1.0 ended at  63  after taking  15  steps.\n",
      "9300  -  1.0 ended at  63  after taking  16  steps.\n",
      "9400  -  1.0 ended at  63  after taking  17  steps.\n",
      "9500  -  0.0 ended at  54  after taking  14  steps.\n",
      "9600  -  1.0 ended at  63  after taking  14  steps.\n",
      "9700  -  0.0 ended at  54  after taking  18  steps.\n",
      "9800  -  1.0 ended at  63  after taking  20  steps.\n",
      "9900  -  1.0 ended at  63  after taking  16  steps.\n"
     ]
    }
   ],
   "source": [
    "alpha = 0.1\n",
    "episodes = 10000\n",
    "n = 5\n",
    "discount = 0.9\n",
    "epsilon = 0.2\n",
    "\n",
    "V_S = {}\n",
    "for s in range(size**2):\n",
    "    V_S[s] = 1\n",
    "\n",
    "Pi = {}\n",
    "for s in range(size**2):\n",
    "    Pi[s] = np.random.randint(0, 4)\n",
    "\n",
    "Initial_Pi = Pi.copy()\n",
    "\n",
    "\n",
    "for e in range(episodes):\n",
    "\n",
    "    obs = env.reset()\n",
    "\n",
    "    S = [obs]\n",
    "    R = [0]\n",
    "\n",
    "    T = 1e6\n",
    "    t = 0\n",
    "\n",
    "    while True:\n",
    "\n",
    "        if t < T:\n",
    "\n",
    "            if np.random.rand() < epsilon:\n",
    "                action = np.random.randint(0, 4)\n",
    "            else:\n",
    "                action = Pi[obs]\n",
    "            \n",
    "            obs, reward, done, info = env.step(action)\n",
    "            \n",
    "            S.append(obs)\n",
    "            R.append(reward)\n",
    "\n",
    "            if done:\n",
    "                if reward != 1:\n",
    "                    V_S[int(obs)] = -1\n",
    "\n",
    "                T = t + 1\n",
    "\n",
    "        tow = t - n + 1\n",
    "\n",
    "        if tow >= 0:\n",
    "            G = sum([(discount ** (i - tow - 1)) * R[i] for i in range(int(tow + 1), int(min(tow + n + 1, T + 1)))])\n",
    "\n",
    "            if tow + n < T:\n",
    "                G += (discount ** n) * V_S[S[tow + n]]\n",
    "\n",
    "            V_S[S[tow]] += alpha * (G - V_S[S[tow]])\n",
    "\n",
    "            [l, d, r, u] = neighbours(S[tow])\n",
    "            Pi[S[tow]] = np.argmax([V_S[l], V_S[d], V_S[r], V_S[u]])\n",
    "\n",
    "        t += 1\n",
    "\n",
    "        if tow == T - 1:\n",
    "            break\n",
    "\n",
    "    if e % 100 == 0:\n",
    "        print(e, ' - ', sum(R), 'ended at ', S[-1], ' after taking ', len(R) - 1, ' steps.')"
   ]
  },
  {
   "cell_type": "code",
   "execution_count": 5,
   "metadata": {},
   "outputs": [
    {
     "name": "stdout",
     "output_type": "stream",
     "text": [
      "→ → → ↓ ↓ ↓ ↓ ↓ \n",
      "→ → → → → → ↓ ↓ \n",
      "↑ ↑ ↑ ↑ → → → ↓ \n",
      "↓ ↑ → → ↓ ↑ → ↓ \n",
      "↓ ← ↑ ↓ → ↓ → ↓ \n",
      "↓ ↑ ← → → ↓ ↓ ↓ \n",
      "↓ → → ↑ ↑ ↓ ← ↓ \n",
      "→ → ↑ ↑ → → → → \n"
     ]
    }
   ],
   "source": [
    "s = 0\n",
    "arrows = ['←', '↓', '→', '↑']\n",
    "\n",
    "for r in range(size):\n",
    "    for c in range(size):\n",
    "        print(arrows[Pi[s]], end = \" \")\n",
    "        s += 1\n",
    "    \n",
    "    print()\n",
    "    \n"
   ]
  },
  {
   "cell_type": "code",
   "execution_count": 6,
   "metadata": {},
   "outputs": [
    {
     "data": {
      "image/png": "[encoded data removed]",
      "text/plain": [
       "<Figure size 432x288 with 2 Axes>"
      ]
     },
     "metadata": {
      "needs_background": "light"
     },
     "output_type": "display_data"
    }
   ],
   "source": [
    "state_values = np.array([V_S[i] for i in range(size**2)]).reshape((size, size))\n",
    "ax = sns.heatmap(state_values, linewidth=0.5)\n",
    "plt.show()"
   ]
  },
  {
   "cell_type": "markdown",
   "metadata": {},
   "source": [
    "![](2022-06-29-20-02-59.png)"
   ]
  }
 ],
 "metadata": {
  "kernelspec": {
   "display_name": "Python 3.8.10 64-bit (windows store)",
   "language": "python",
   "name": "python3"
  },
  "language_info": {
   "codemirror_mode": {
    "name": "ipython",
    "version": 3
   },
   "file_extension": ".py",
   "mimetype": "text/x-python",
   "name": "python",
   "nbconvert_exporter": "python",
   "pygments_lexer": "ipython3",
   "version": "3.8.10"
  },
  "orig_nbformat": 4,
  "vscode": {
   "interpreter": {
    "hash": "5c18054ba61df995ddaeae3038d30d0728db58f9c2b6577d529d470870c77e34"
   }
  }
 },
 "nbformat": 4,
 "nbformat_minor": 2
}
